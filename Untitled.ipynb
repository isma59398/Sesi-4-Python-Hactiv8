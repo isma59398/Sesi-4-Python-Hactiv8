{
 "cells": [
  {
   "cell_type": "code",
   "execution_count": 6,
   "id": "de0c5bb5",
   "metadata": {},
   "outputs": [
    {
     "name": "stdout",
     "output_type": "stream",
     "text": [
      "Input operasi: 8\n",
      "Angka pertama: 5\n",
      "Angka kedua: 4\n",
      "\n",
      "Maaf, pilihan menu tidak tersedia\n",
      "\n"
     ]
    }
   ],
   "source": [
    "pilihan = int(input('Input operasi: '))\n",
    "num1 = float(input('Angka pertama: '))\n",
    "num2 = float(input('Angka kedua: '))\n",
    "print()\n",
    " \n",
    "##pilihan 1 penjumlahan\n",
    "##pilihan 2 pengurangan\n",
    "##pilihan 3 perkalian\n",
    "##pilihan 4 pembagian\n",
    "##pilihan 5 modulus\n",
    "    \n",
    "if pilihan == 1:\n",
    "  print('Hasil dari',num1,'+',num2,'=',round(num1+num2,2))\n",
    "elif pilihan == 2:\n",
    "  print('Hasil dari',num1,'-',num2,'=',round(num1-num2,2))\n",
    "elif pilihan == 3:\n",
    "  print('Hasil dari',num1,'*',num2,'=',round(num1*num2,2))\n",
    "elif pilihan == 4:\n",
    "  print('Hasil dari',num1,'/',num2,'=',round(num1/num2,2))\n",
    "elif pilihan == 5:\n",
    "  print('Hasil dari',num1,'%',num2,'=',round(num1%num2,2))\n",
    "else:\n",
    "  print('Maaf, pilihan menu tidak tersedia')\n",
    "print()"
   ]
  },
  {
   "cell_type": "code",
   "execution_count": 12,
   "id": "f5ea6586",
   "metadata": {},
   "outputs": [
    {
     "name": "stdout",
     "output_type": "stream",
     "text": [
      " Masukan Angka 1 = 2\n",
      "Masukan Operator angkanya +\n",
      "Masukan  Angka 2 = 3\n",
      "Tipe data salah\n"
     ]
    }
   ],
   "source": [
    "a = input(\" Masukan Angka 1 = \")\n",
    "c = input(\"Masukan Operator angkanya \")\n",
    "b = input(\"Masukan  Angka 2 = \")\n",
    "\n",
    "if a != int:\n",
    "    print(\"Tipe data salah\")\n",
    "else:\n",
    "    if c == \"+\":\n",
    "        print(tambah(a,b))\n",
    "    elif c ==\"-\":\n",
    "        kurang(a,b)\n",
    "        print(kurang(a,b))\n",
    "    elif c ==\"x\":\n",
    "        print(kali(a,b))\n",
    "    elif c ==\":\":\n",
    "        print(bagi(a,b))\n",
    "    else:\n",
    "        print(\"Operator tidak ditemukan\")"
   ]
  },
  {
   "cell_type": "code",
   "execution_count": 13,
   "id": "89b07ebf",
   "metadata": {},
   "outputs": [
    {
     "name": "stdout",
     "output_type": "stream",
     "text": [
      " Masukan Angka 1 = 2\n",
      "Masukan Operator angkanya +\n",
      "Masukan  Angka 2 = 3\n",
      "5\n",
      "None\n"
     ]
    }
   ],
   "source": [
    "def tambah (a,b):\n",
    "    print(a+b) \n",
    "\n",
    "def kurang(a,b):\n",
    "    print(a-b)\n",
    "\n",
    "def kali (a,b):\n",
    "    print(a*b)\n",
    "\n",
    "def bagi (a,b):\n",
    "    print(a//b)\n",
    "\n",
    "def pangkat (a,b):\n",
    "    print(a**b)\n",
    "    \n",
    "try:\n",
    "    a = int(input(\" Masukan Angka 1 = \"))\n",
    "    c = input(\"Masukan Operator angkanya \")\n",
    "    b = int(input(\"Masukan  Angka 2 = \"))\n",
    "\n",
    "    if c == \"+\":\n",
    "        print(tambah(a,b))\n",
    "    elif c ==\"-\":\n",
    "        kurang(a,b)\n",
    "        print(kurang(a,b))\n",
    "    elif c ==\"x\":\n",
    "        print(kali(a,b))\n",
    "    elif c ==\":\":\n",
    "        print(bagi(a,b))\n",
    "    else:\n",
    "        print(\"Operator tidak ditemukan\")\n",
    "\n",
    "except ValueError:\n",
    "    print(\"Tipe data salah\")"
   ]
  },
  {
   "cell_type": "code",
   "execution_count": 14,
   "id": "b7b71324",
   "metadata": {},
   "outputs": [],
   "source": [
    "import numpy as np"
   ]
  },
  {
   "cell_type": "code",
   "execution_count": 17,
   "id": "a7511f2e",
   "metadata": {},
   "outputs": [],
   "source": [
    "c = np.array([1, 2, 3])"
   ]
  },
  {
   "cell_type": "code",
   "execution_count": 18,
   "id": "ff813cfa",
   "metadata": {},
   "outputs": [
    {
     "data": {
      "text/plain": [
       "array([1, 2, 3])"
      ]
     },
     "execution_count": 18,
     "metadata": {},
     "output_type": "execute_result"
    }
   ],
   "source": [
    "c"
   ]
  },
  {
   "cell_type": "code",
   "execution_count": 19,
   "id": "f24739d4",
   "metadata": {},
   "outputs": [
    {
     "data": {
      "text/plain": [
       "1"
      ]
     },
     "execution_count": 19,
     "metadata": {},
     "output_type": "execute_result"
    }
   ],
   "source": [
    "c[0]"
   ]
  },
  {
   "cell_type": "code",
   "execution_count": 20,
   "id": "3c6a8fa0",
   "metadata": {},
   "outputs": [],
   "source": [
    "array_1 = [1,2,3,4,5,6,7]"
   ]
  },
  {
   "cell_type": "code",
   "execution_count": 21,
   "id": "c75cdd8f",
   "metadata": {},
   "outputs": [
    {
     "data": {
      "text/plain": [
       "[1, 2, 3]"
      ]
     },
     "execution_count": 21,
     "metadata": {},
     "output_type": "execute_result"
    }
   ],
   "source": [
    "array_1[:3]"
   ]
  },
  {
   "cell_type": "markdown",
   "id": "c7424387",
   "metadata": {},
   "source": [
    "dimensional array consist of list of list"
   ]
  },
  {
   "cell_type": "code",
   "execution_count": 23,
   "id": "ef0fc40b",
   "metadata": {},
   "outputs": [
    {
     "data": {
      "text/plain": [
       "array([[1, 2, 3],\n",
       "       [4, 5, 6],\n",
       "       [7, 8, 9]])"
      ]
     },
     "execution_count": 23,
     "metadata": {},
     "output_type": "execute_result"
    }
   ],
   "source": [
    "list_of_lists = [[1,2,3], [4,5,6], [7,8,9]]\n",
    "np.array(list_of_lists)"
   ]
  },
  {
   "cell_type": "code",
   "execution_count": 30,
   "id": "cbb335a7",
   "metadata": {},
   "outputs": [
    {
     "name": "stdout",
     "output_type": "stream",
     "text": [
      "[0. 0. 0. 0. 0. 0. 0. 0.]\n",
      "[[0. 0.]\n",
      " [0. 0.]\n",
      " [0. 0.]]\n"
     ]
    }
   ],
   "source": [
    "print (np.zeros(8)) #1D\n",
    "print (np.zeros([3,2]))#2D"
   ]
  },
  {
   "cell_type": "code",
   "execution_count": 31,
   "id": "5f3312f6",
   "metadata": {},
   "outputs": [
    {
     "name": "stdout",
     "output_type": "stream",
     "text": [
      "[1. 1. 1. 1.]\n",
      "[[1. 1.]\n",
      " [1. 1.]\n",
      " [1. 1.]\n",
      " [1. 1.]]\n"
     ]
    }
   ],
   "source": [
    "print (np.ones(4))\n",
    "print (np.ones((4,2)))"
   ]
  },
  {
   "cell_type": "code",
   "execution_count": 35,
   "id": "aec140cf",
   "metadata": {},
   "outputs": [
    {
     "data": {
      "text/plain": [
       "array([[0., 0.],\n",
       "       [0., 0.],\n",
       "       [0., 0.]])"
      ]
     },
     "execution_count": 35,
     "metadata": {},
     "output_type": "execute_result"
    }
   ],
   "source": [
    "np.empty(5)\n",
    "np.empty((3,2))"
   ]
  },
  {
   "cell_type": "code",
   "execution_count": 39,
   "id": "1bc81247",
   "metadata": {},
   "outputs": [
    {
     "name": "stdout",
     "output_type": "stream",
     "text": [
      "[0 1 2 3 4 5 6 7 8 9]\n",
      "[0 2 4 6 8]\n"
     ]
    }
   ],
   "source": [
    "print (np.arange(10))\n",
    "print(np.arange(0,10,2))"
   ]
  },
  {
   "cell_type": "code",
   "execution_count": 40,
   "id": "68721779",
   "metadata": {},
   "outputs": [
    {
     "data": {
      "text/plain": [
       "array([ 0,  4,  8, 12, 16, 20, 24, 28])"
      ]
     },
     "execution_count": 40,
     "metadata": {},
     "output_type": "execute_result"
    }
   ],
   "source": [
    "np.arange(0,30,4)"
   ]
  },
  {
   "cell_type": "code",
   "execution_count": 42,
   "id": "2756ea47",
   "metadata": {},
   "outputs": [
    {
     "name": "stdout",
     "output_type": "stream",
     "text": [
      "[ 1  2  3  4  5  6  7  8  9 10 11]\n",
      "[1 2 4 5 6 7 8 9]\n",
      "<function sort at 0x00000158155A84C0>\n"
     ]
    }
   ],
   "source": [
    "c = np.array([1,2,3,4,5,6,7,8,9])\n",
    "\n",
    "print (np.append(c,[10,11]))\n",
    "print(np.delete(c,2))\n",
    "print(np.sort)"
   ]
  },
  {
   "cell_type": "code",
   "execution_count": 43,
   "id": "b8da6631",
   "metadata": {},
   "outputs": [
    {
     "name": "stdout",
     "output_type": "stream",
     "text": [
      "1\n",
      "2\n"
     ]
    }
   ],
   "source": [
    "d = np.zeros((2,2))\n",
    "print (c.ndim)\n",
    "print (d.ndim)"
   ]
  },
  {
   "cell_type": "code",
   "execution_count": 45,
   "id": "11373ee9",
   "metadata": {},
   "outputs": [
    {
     "name": "stdout",
     "output_type": "stream",
     "text": [
      "9\n",
      "4\n"
     ]
    }
   ],
   "source": [
    "print (c.size)\n",
    "print (d.size)"
   ]
  },
  {
   "cell_type": "code",
   "execution_count": 46,
   "id": "c61006f0",
   "metadata": {},
   "outputs": [
    {
     "ename": "ValueError",
     "evalue": "cannot reshape array of size 9 into shape (3,4)",
     "output_type": "error",
     "traceback": [
      "\u001b[1;31m---------------------------------------------------------------------------\u001b[0m",
      "\u001b[1;31mValueError\u001b[0m                                Traceback (most recent call last)",
      "\u001b[1;32m~\\AppData\\Local\\Temp\\ipykernel_15328\\1210247773.py\u001b[0m in \u001b[0;36m<module>\u001b[1;34m\u001b[0m\n\u001b[0;32m      2\u001b[0m \u001b[0md\u001b[0m \u001b[1;33m=\u001b[0m \u001b[0mnp\u001b[0m\u001b[1;33m.\u001b[0m\u001b[0mzeros\u001b[0m\u001b[1;33m(\u001b[0m\u001b[1;33m(\u001b[0m\u001b[1;36m2\u001b[0m\u001b[1;33m,\u001b[0m\u001b[1;36m2\u001b[0m\u001b[1;33m)\u001b[0m\u001b[1;33m)\u001b[0m\u001b[1;33m\u001b[0m\u001b[1;33m\u001b[0m\u001b[0m\n\u001b[0;32m      3\u001b[0m \u001b[1;33m\u001b[0m\u001b[0m\n\u001b[1;32m----> 4\u001b[1;33m \u001b[0mprint\u001b[0m\u001b[1;33m(\u001b[0m\u001b[0mc\u001b[0m\u001b[1;33m.\u001b[0m\u001b[0mreshape\u001b[0m\u001b[1;33m(\u001b[0m\u001b[1;36m3\u001b[0m\u001b[1;33m,\u001b[0m\u001b[1;36m4\u001b[0m\u001b[1;33m)\u001b[0m\u001b[1;33m)\u001b[0m\u001b[1;33m\u001b[0m\u001b[1;33m\u001b[0m\u001b[0m\n\u001b[0m",
      "\u001b[1;31mValueError\u001b[0m: cannot reshape array of size 9 into shape (3,4)"
     ]
    }
   ],
   "source": [
    "c = np.array([1,2,3,4,5,6,7,8,9])\n",
    "d = np.zeros((2,2))\n",
    "\n",
    "print(c.reshape(3,4))"
   ]
  },
  {
   "cell_type": "code",
   "execution_count": 47,
   "id": "45deee15",
   "metadata": {},
   "outputs": [
    {
     "data": {
      "text/plain": [
       "(1, 4)"
      ]
     },
     "execution_count": 47,
     "metadata": {},
     "output_type": "execute_result"
    }
   ],
   "source": [
    "array_3 = np.array([[1,2,3,4]])\n",
    "array_3.shape"
   ]
  },
  {
   "cell_type": "code",
   "execution_count": 50,
   "id": "680fa859",
   "metadata": {},
   "outputs": [
    {
     "name": "stdout",
     "output_type": "stream",
     "text": [
      "(3, 1)\n"
     ]
    }
   ],
   "source": [
    "array_4 = np.array([4,5,6])\n",
    "array_4[np.newaxis,:]\n",
    "print(array_4[:,np.newaxis].shape)"
   ]
  },
  {
   "cell_type": "code",
   "execution_count": 57,
   "id": "649e3a54",
   "metadata": {},
   "outputs": [
    {
     "data": {
      "text/plain": [
       "(1, 1, 1, 3)"
      ]
     },
     "execution_count": 57,
     "metadata": {},
     "output_type": "execute_result"
    }
   ],
   "source": [
    "array_4 = np.array([[[[4,5,6]]]])\n",
    "array_4.shape"
   ]
  },
  {
   "cell_type": "code",
   "execution_count": 60,
   "id": "9d00e79c",
   "metadata": {},
   "outputs": [
    {
     "name": "stdout",
     "output_type": "stream",
     "text": [
      "[[3]\n",
      " [4]\n",
      " [5]\n",
      " [6]\n",
      " [7]\n",
      " [8]\n",
      " [9]]\n",
      "(7, 1)\n",
      "[[3 4 5 6 7 8 9]]\n",
      "(7, 1)\n"
     ]
    }
   ],
   "source": [
    "#np.expend_dims\n",
    "array_7 = np.array([3,4,5,6,7,8,9])\n",
    "array_8 = np.expand_dims(array_7,axis=1)\n",
    "array_9 = np.expand_dims(array_7,axis=0)\n",
    "print (array_8)\n",
    "print (array_8.shape)\n",
    "print (array_9)\n",
    "print (array_8.shape)"
   ]
  },
  {
   "cell_type": "code",
   "execution_count": 62,
   "id": "4f0ea780",
   "metadata": {},
   "outputs": [
    {
     "data": {
      "text/plain": [
       "array([[-3, -2, -1],\n",
       "       [ 0,  1,  2]])"
      ]
     },
     "execution_count": 62,
     "metadata": {},
     "output_type": "execute_result"
    }
   ],
   "source": [
    "array_10 = np.array([[1,2,3], [4,5,6]])\n",
    "array_10-4"
   ]
  },
  {
   "cell_type": "code",
   "execution_count": 63,
   "id": "9d0346ce",
   "metadata": {},
   "outputs": [
    {
     "name": "stdout",
     "output_type": "stream",
     "text": [
      "[6 7 8 9]\n",
      "[8]\n",
      "[3 4 5 6 7 8 9]\n"
     ]
    }
   ],
   "source": [
    "array_7 = np.array([3,4,5,6,7,8,9])\n",
    "print (array_7[array_7>5])\n",
    "print (array_7[array_7==8])\n",
    "print (array_7[array_7<=45])\n"
   ]
  },
  {
   "cell_type": "code",
   "execution_count": 64,
   "id": "419d8e4e",
   "metadata": {},
   "outputs": [
    {
     "ename": "NameError",
     "evalue": "name 'np_array' is not defined",
     "output_type": "error",
     "traceback": [
      "\u001b[1;31m---------------------------------------------------------------------------\u001b[0m",
      "\u001b[1;31mNameError\u001b[0m                                 Traceback (most recent call last)",
      "\u001b[1;32m~\\AppData\\Local\\Temp\\ipykernel_15328\\2612094166.py\u001b[0m in \u001b[0;36m<module>\u001b[1;34m\u001b[0m\n\u001b[1;32m----> 1\u001b[1;33m \u001b[0marray_11\u001b[0m \u001b[1;33m=\u001b[0m \u001b[0mnp_array\u001b[0m\u001b[1;33m(\u001b[0m\u001b[1;33m[\u001b[0m\u001b[1;33m[\u001b[0m\u001b[1;36m3\u001b[0m\u001b[1;33m,\u001b[0m\u001b[1;36m5\u001b[0m\u001b[1;33m,\u001b[0m\u001b[1;36m7\u001b[0m\u001b[1;33m]\u001b[0m\u001b[1;33m,\u001b[0m \u001b[1;33m[\u001b[0m\u001b[1;36m8\u001b[0m\u001b[1;33m,\u001b[0m\u001b[1;36m9\u001b[0m\u001b[1;33m,\u001b[0m\u001b[1;36m10\u001b[0m\u001b[1;33m]\u001b[0m\u001b[1;33m,\u001b[0m \u001b[1;33m[\u001b[0m\u001b[1;33m-\u001b[0m\u001b[1;36m1\u001b[0m\u001b[1;33m,\u001b[0m \u001b[1;33m-\u001b[0m\u001b[1;36m2\u001b[0m\u001b[1;33m,\u001b[0m \u001b[1;33m-\u001b[0m\u001b[1;36m3\u001b[0m\u001b[1;33m]\u001b[0m\u001b[1;33m]\u001b[0m\u001b[1;33m)\u001b[0m\u001b[1;33m\u001b[0m\u001b[1;33m\u001b[0m\u001b[0m\n\u001b[0m\u001b[0;32m      2\u001b[0m \u001b[0marray_11\u001b[0m\u001b[1;33m.\u001b[0m\u001b[0mshape\u001b[0m\u001b[1;33m\u001b[0m\u001b[1;33m\u001b[0m\u001b[0m\n\u001b[0;32m      3\u001b[0m \u001b[0mprint\u001b[0m \u001b[1;33m(\u001b[0m\u001b[0marray_11\u001b[0m\u001b[1;33m[\u001b[0m\u001b[0marray_11\u001b[0m\u001b[1;33m>\u001b[0m\u001b[1;36m5\u001b[0m\u001b[1;33m]\u001b[0m\u001b[1;33m)\u001b[0m\u001b[1;33m\u001b[0m\u001b[1;33m\u001b[0m\u001b[0m\n",
      "\u001b[1;31mNameError\u001b[0m: name 'np_array' is not defined"
     ]
    }
   ],
   "source": [
    "array_11 = np_array([[3,5,7], [8,9,10], [-1, -2, -3]])\n",
    "array_11.shape\n",
    "print (array_11[array_11>5])"
   ]
  },
  {
   "cell_type": "code",
   "execution_count": 23,
   "id": "68761b98",
   "metadata": {},
   "outputs": [
    {
     "name": "stdout",
     "output_type": "stream",
     "text": [
      "Input: 5\n",
      "\n",
      " * * * * * \n",
      "  * * * * \n",
      "   * * * \n",
      "    * * \n",
      "     * \n",
      "     * \n",
      "    * * \n",
      "   * * * \n",
      "  * * * * \n",
      " * * * * * \n"
     ]
    }
   ],
   "source": [
    "tinggi = int(input('Input: '))\n",
    "print()\n",
    "\n",
    "for i in range(tinggi):\n",
    "  for j in range(i+1):\n",
    "    print(' ',end='')\n",
    "  for k in range(tinggi-i):\n",
    "    print('* ',end='')\n",
    "  print()\n",
    "for i in range(tinggi):\n",
    "  print(' ' * (tinggi-i),end='')\n",
    "  print('* ' * (i+1))"
   ]
  },
  {
   "cell_type": "code",
   "execution_count": 9,
   "id": "ca4b0fcc",
   "metadata": {},
   "outputs": [
    {
     "ename": "NameError",
     "evalue": "name 'np' is not defined",
     "output_type": "error",
     "traceback": [
      "\u001b[1;31m---------------------------------------------------------------------------\u001b[0m",
      "\u001b[1;31mNameError\u001b[0m                                 Traceback (most recent call last)",
      "\u001b[1;32m~\\AppData\\Local\\Temp\\ipykernel_9856\\2489206031.py\u001b[0m in \u001b[0;36m<module>\u001b[1;34m\u001b[0m\n\u001b[0;32m      1\u001b[0m \u001b[1;31m#visplit\u001b[0m\u001b[1;33m\u001b[0m\u001b[1;33m\u001b[0m\u001b[0m\n\u001b[1;32m----> 2\u001b[1;33m \u001b[0marray_19\u001b[0m \u001b[1;33m=\u001b[0m \u001b[0mnp\u001b[0m\u001b[1;33m.\u001b[0m\u001b[0marray\u001b[0m\u001b[1;33m(\u001b[0m\u001b[1;33m[\u001b[0m\u001b[1;33m[\u001b[0m\u001b[1;36m1\u001b[0m\u001b[1;33m,\u001b[0m\u001b[1;36m2\u001b[0m\u001b[1;33m,\u001b[0m\u001b[1;36m3\u001b[0m\u001b[1;33m,\u001b[0m\u001b[1;36m4\u001b[0m\u001b[1;33m]\u001b[0m\u001b[1;33m,\u001b[0m\u001b[1;33m[\u001b[0m\u001b[1;36m4\u001b[0m\u001b[1;33m,\u001b[0m\u001b[1;36m5\u001b[0m\u001b[1;33m,\u001b[0m\u001b[1;36m6\u001b[0m\u001b[1;33m,\u001b[0m\u001b[1;36m7\u001b[0m\u001b[1;33m]\u001b[0m\u001b[1;33m]\u001b[0m\u001b[1;33m)\u001b[0m\u001b[1;33m\u001b[0m\u001b[1;33m\u001b[0m\u001b[0m\n\u001b[0m\u001b[0;32m      3\u001b[0m \u001b[0mprint\u001b[0m\u001b[1;33m(\u001b[0m\u001b[0marray_19\u001b[0m\u001b[1;33m)\u001b[0m\u001b[1;33m\u001b[0m\u001b[1;33m\u001b[0m\u001b[0m\n\u001b[0;32m      4\u001b[0m \u001b[0mprint\u001b[0m\u001b[1;33m(\u001b[0m\u001b[1;34m'horizontal split'\u001b[0m\u001b[1;33m)\u001b[0m\u001b[1;33m\u001b[0m\u001b[1;33m\u001b[0m\u001b[0m\n\u001b[0;32m      5\u001b[0m \u001b[0mprint\u001b[0m\u001b[1;33m(\u001b[0m\u001b[0mnp\u001b[0m\u001b[1;33m.\u001b[0m\u001b[0mhsplit\u001b[0m\u001b[1;33m(\u001b[0m\u001b[0marray_19\u001b[0m\u001b[1;33m,\u001b[0m\u001b[1;36m2\u001b[0m\u001b[1;33m)\u001b[0m\u001b[1;33m)\u001b[0m\u001b[1;33m\u001b[0m\u001b[1;33m\u001b[0m\u001b[0m\n",
      "\u001b[1;31mNameError\u001b[0m: name 'np' is not defined"
     ]
    }
   ],
   "source": [
    "#visplit\n",
    "array_19 = np.array([[1,2,3,4],[4,5,6,7]])\n",
    "print(array_19)\n",
    "print('horizontal split')\n",
    "print(np.hsplit(array_19,2))\n",
    "print ('verikal split')\n",
    "print (np.vsplit(array_19,2))"
   ]
  },
  {
   "cell_type": "markdown",
   "id": "7277b5b1",
   "metadata": {},
   "source": [
    "#operasi arimatika antar 2 array"
   ]
  },
  {
   "cell_type": "code",
   "execution_count": 84,
   "id": "e8b7b8a1",
   "metadata": {},
   "outputs": [
    {
     "name": "stdout",
     "output_type": "stream",
     "text": [
      "[4 6 8]\n"
     ]
    }
   ],
   "source": [
    "array_a = np.array([1,2,3])\n",
    "array_b = np.array([3,4,5])\n",
    "print (array_a+array_b)"
   ]
  },
  {
   "cell_type": "code",
   "execution_count": 85,
   "id": "2479a9be",
   "metadata": {},
   "outputs": [
    {
     "name": "stdout",
     "output_type": "stream",
     "text": [
      "6\n",
      "21\n",
      "[5 7 9]\n"
     ]
    }
   ],
   "source": [
    "array_a = np.array([1,2,3])\n",
    "array_b = np.array([3,4,5])\n",
    "array_c = np.array([[1,2,3], [4,5,6]])\n",
    "array_d = np.array([[6,7,8], [9,10,11]])\n",
    "print(array_a.sum())\n",
    "print(array_c.sum())\n",
    "print(array_c.sum(axis=0))"
   ]
  },
  {
   "cell_type": "code",
   "execution_count": 86,
   "id": "89baae90",
   "metadata": {},
   "outputs": [],
   "source": [
    "array_c = np.array([[1,2,3], [4,5,6]])\n"
   ]
  },
  {
   "cell_type": "code",
   "execution_count": null,
   "id": "995c8c9a",
   "metadata": {},
   "outputs": [],
   "source": [
    "transposing"
   ]
  },
  {
   "cell_type": "code",
   "execution_count": 25,
   "id": "7f25e324",
   "metadata": {},
   "outputs": [
    {
     "name": "stdout",
     "output_type": "stream",
     "text": [
      "bilangan prima dari : 1\n",
      "bilangan prima hingga : 9\n",
      "bilangan prima antara  1 hingga 9 :\n",
      "3\n",
      "5\n",
      "5\n",
      "5\n",
      "7\n",
      "7\n",
      "7\n",
      "7\n",
      "7\n",
      "9\n"
     ]
    }
   ],
   "source": [
    "lower = int(input(\"bilangan prima dari : \"))\n",
    "upper = int(input(\"bilangan prima hingga : \"))\n",
    "print(\"bilangan prima antara \",lower,\"hingga\",upper,\":\")\n",
    "for num in range(lower,upper + 1):\n",
    "    if num>1:\n",
    "        for i in range(2, num):\n",
    "            if (num%i) == 0:\n",
    "                break\n",
    "            else:\n",
    "                print(num)"
   ]
  },
  {
   "cell_type": "code",
   "execution_count": null,
   "id": "a970270b",
   "metadata": {},
   "outputs": [],
   "source": []
  }
 ],
 "metadata": {
  "kernelspec": {
   "display_name": "Python 3 (ipykernel)",
   "language": "python",
   "name": "python3"
  },
  "language_info": {
   "codemirror_mode": {
    "name": "ipython",
    "version": 3
   },
   "file_extension": ".py",
   "mimetype": "text/x-python",
   "name": "python",
   "nbconvert_exporter": "python",
   "pygments_lexer": "ipython3",
   "version": "3.9.13"
  }
 },
 "nbformat": 4,
 "nbformat_minor": 5
}
